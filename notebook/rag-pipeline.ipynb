{
 "cells": [
  {
   "cell_type": "markdown",
   "metadata": {},
   "source": [
    "Retrieval-augmented generation (RAG) applications are becoming increasingly popular as large language models (LLMs) continue to improve in performance and capabilities. These applications leverage the strengths of both retrieval and generation to provide more accurate, contextually relevant, and informative responses. However, the validation and evaluation of RAG applications are crucial because the quality and reliability of the generated responses depend heavily on the effectiveness of the underlying retrieval and embedding models. Ensuring that these models are accurately evaluated helps in optimizing their performance, leading to better user experiences and more trustworthy outputs. This blog explores how the choice of embedding models affects RAG performance, detailing the evaluation metrics used to assess these models and demonstrating the impact of different embeddings on a naive RAG pipeline. By understanding these factors, developers can make informed decisions to enhance the efficiency and effectiveness of their RAG applications.\n",
    "\n",
    "To a successful RAG application, the choice of embedding models is crucial. The quality of the embeddings directly impacts the performance of the retrieval and generation components, which in turn affects the overall accuracy and relevance of the responses. Therefore, it is essential to evaluate the effectiveness of the embedding models to ensure that they are capable of capturing the semantic and contextual information required for accurate retrieval and generation. Let's first understand what are embedding models, how they are evaluated, and how they impact RAG performance."
   ]
  },
  {
   "cell_type": "code",
   "execution_count": 20,
   "metadata": {},
   "outputs": [],
   "source": [
    "from langchain_community.document_loaders import DirectoryLoader\n",
    "from langchain_community.document_loaders import PyPDFLoader\n",
    "from langchain.text_splitter import RecursiveCharacterTextSplitter\n",
    "from langchain_qdrant import Qdrant\n",
    "\n",
    "from ragas import evaluate\n",
    "from ragas.metrics import (\n",
    "    faithfulness,\n",
    "    answer_relevancy,\n",
    "    context_relevancy,\n",
    "    context_recall,\n",
    "    context_precision,\n",
    ")\n",
    "\n",
    "import nest_asyncio\n",
    "nest_asyncio.apply()"
   ]
  },
  {
   "cell_type": "code",
   "execution_count": 21,
   "metadata": {},
   "outputs": [],
   "source": [
    "data_path = '../data'\n",
    "chunk_size = 500\n",
    "chunk_overlap = 50\n",
    "\n",
    "# Load the documents from the directory\n",
    "loader = DirectoryLoader(data_path, loader_cls=PyPDFLoader)\n",
    "\n",
    "# Split the documents into chunks\n",
    "text_splitter = RecursiveCharacterTextSplitter(\n",
    "   chunk_size=chunk_size,\n",
    "   chunk_overlap=chunk_overlap,\n",
    "   length_function=len,\n",
    "   is_separator_regex=False,\n",
    ")\n",
    "docs = loader.load_and_split(text_splitter=text_splitter)"
   ]
  },
  {
   "cell_type": "code",
   "execution_count": 22,
   "metadata": {},
   "outputs": [],
   "source": [
    "from datasets import Dataset\n",
    "from tqdm.notebook import tqdm\n",
    "\n",
    "questions = [\n",
    "    \"What is the developer of Llama model?\",\n",
    "    \"How many versions of Llama model are there?\",\n",
    "    \"How is Llama 3 model different from GPT-3?\",\n",
    "    \"Can you provide some information about the training datset of Llama-1 model?\",\n",
    "    \"What is the context length of Llama 3 model?\",\n",
    "]\n",
    "\n",
    "ground_truth = [\n",
    "    \"Meta AI is the developer of the Llama model.\",\n",
    "    \"There are three versions of the Llama model.\",\n",
    "    \"There are minor architectural differences. Compared to GPT-3, LLaMA uses SwiGLU activation function instead of GeLU; uses rotary positional embeddings instead of absolute positional embedding; uses root-mean-squared layer-normalization instead of standard layer-normalization; increases context length to 8k in Llama 3 (compared to 4k in Llama 2 and 2k in Llama 1 and GPT-3)\",\n",
    "    \"LLaMA 1 foundational models were trained on a data set with 1.4 trillion tokens, drawn from publicly available data sources, including: Webpages scraped by CommonCrawl; Open source repositories of source code from GitHub; Wikipedia in 20 different languages; Public domain books from Project Gutenberg; Books3 books dataset; The LaTeX source code for scientific papers uploaded to ArXiv; Questions and answers from Stack Exchange websites. On April 17, 2023, TogetherAI launched a project named RedPajama to reproduce and distribute an open source version of the LLaMA dataset. The dataset has approximately 1.2 trillion tokens and is publicly available for download\",\n",
    "    \"The context length of Llama 3 model is 8192 tokens.\",\n",
    "]"
   ]
  },
  {
   "cell_type": "code",
   "execution_count": 23,
   "metadata": {},
   "outputs": [],
   "source": [
    "def create_test_case(questions, ground_truth, rag_chain, retriever):\n",
    "    data = {\"question\": [], \"answer\": [], \"contexts\": [], \"ground_truth\": ground_truth}\n",
    "\n",
    "    for query in questions:\n",
    "        data[\"question\"].append(query)\n",
    "        # data[\"answer\"].append(rag_chain.invoke(query)['result'])\n",
    "        data[\"answer\"].append(rag_chain.invoke(query))\n",
    "        data[\"contexts\"].append([doc.page_content for doc in retriever.get_relevant_documents(query)])\n",
    "\n",
    "    dataset = Dataset.from_dict(data)\n",
    "\n",
    "    return dataset"
   ]
  },
  {
   "cell_type": "code",
   "execution_count": 24,
   "metadata": {},
   "outputs": [],
   "source": [
    "def index_documents_and_retrieve(docs, embeddings):\n",
    "\n",
    "    qdrant = Qdrant.from_documents(\n",
    "        docs,\n",
    "        embeddings,\n",
    "        location=\":memory:\",  # Local mode with in-memory storage only\n",
    "        collection_name=\"my_documents\",\n",
    "    )\n",
    "\n",
    "    retriever = qdrant.as_retriever()\n",
    "\n",
    "    return retriever\n",
    "\n",
    "def build_rag_chain(llm, retriever):\n",
    "    \n",
    "    from langchain_core.prompts import PromptTemplate\n",
    "    from langchain.schema.runnable import RunnablePassthrough\n",
    "    from langchain.schema.output_parser import StrOutputParser\n",
    "    \n",
    "    template = \"\"\"\n",
    "        Answer the question based only on the following context:\n",
    "        \n",
    "        {context}\n",
    "        \n",
    "        Question: {question}\n",
    "        \"\"\"\n",
    "    \n",
    "    prompt = PromptTemplate(\n",
    "        template=template,\n",
    "        input_variables=[\"context\",\"question\"]\n",
    "        )\n",
    "    \n",
    "    rag_chain = (\n",
    "        {\"context\": retriever,  \"question\": RunnablePassthrough()}\n",
    "        | prompt\n",
    "        | llm\n",
    "        | StrOutputParser()\n",
    "    )\n",
    "    \n",
    "    return rag_chain\n",
    "\n",
    "def evaluate_rag(dataset, llm, embeddings):\n",
    "    result = evaluate(\n",
    "        dataset=dataset,\n",
    "        llm=llm,\n",
    "        embeddings=embeddings,\n",
    "        metrics=[\n",
    "            context_relevancy, \n",
    "            context_precision,\n",
    "            faithfulness,\n",
    "            answer_relevancy,\n",
    "            context_recall,\n",
    "        ],\n",
    "        raise_exceptions=True\n",
    "    )\n",
    "\n",
    "    return result"
   ]
  },
  {
   "cell_type": "code",
   "execution_count": 25,
   "metadata": {},
   "outputs": [],
   "source": [
    "from langchain_huggingface import HuggingFaceEmbeddings"
   ]
  },
  {
   "cell_type": "code",
   "execution_count": 26,
   "metadata": {},
   "outputs": [],
   "source": [
    "model_id = \"llama3:instruct\""
   ]
  },
  {
   "cell_type": "code",
   "execution_count": 27,
   "metadata": {},
   "outputs": [],
   "source": [
    "embedding_models = ['infgrad/stella_en_1.5B_v5', 'BAAI/bge-large-en', 'BAAI/bge-small-en', 'Salesforce/SFR-Embedding-2_R', 'Alibaba-NLP/gte-Qwen2-7B-instruct']"
   ]
  },
  {
   "cell_type": "code",
   "execution_count": 28,
   "metadata": {},
   "outputs": [],
   "source": [
    "from langchain_community.chat_models import ChatOllama"
   ]
  },
  {
   "cell_type": "code",
   "execution_count": 29,
   "metadata": {},
   "outputs": [],
   "source": [
    "llm = ChatOllama(model=model_id)"
   ]
  },
  {
   "cell_type": "code",
   "execution_count": 30,
   "metadata": {},
   "outputs": [
    {
     "data": {
      "application/vnd.jupyter.widget-view+json": {
       "model_id": "c2b263b8a9a941fd96359acbd526410f",
       "version_major": 2,
       "version_minor": 0
      },
      "text/plain": [
       "Embedding Models:   0%|          | 0/5 [00:00<?, ?it/s]"
      ]
     },
     "metadata": {},
     "output_type": "display_data"
    },
    {
     "name": "stderr",
     "output_type": "stream",
     "text": [
      "Special tokens have been added in the vocabulary, make sure the associated word embeddings are fine-tuned or trained.\n"
     ]
    },
    {
     "data": {
      "application/vnd.jupyter.widget-view+json": {
       "model_id": "9e83b2c8c224440ab9186c6494457cf1",
       "version_major": 2,
       "version_minor": 0
      },
      "text/plain": [
       "Evaluating:   0%|          | 0/25 [00:00<?, ?it/s]"
      ]
     },
     "metadata": {},
     "output_type": "display_data"
    },
    {
     "name": "stdout",
     "output_type": "stream",
     "text": [
      "Embedding Model: infgrad/stella_en_1.5B_v5\n",
      "Question: What is the developer of Llama model?\n",
      "Answer: Based on the provided context, there is no direct mention of the developer of the Llama model. However, it is mentioned that Meta adopted the strategy of open weights to improve model safety, iteration speed, and increase adoption among developers and researchers. This implies that Meta is involved in the development of the Llama model.\n",
      "Ground Truth:  Meta AI is the developer of the Llama model.\n",
      "Context Relevancy: 0.008849557522123894\n",
      "Context Precision: 0.3333333333\n",
      "Faithfulness: 0.8333333333333334\n",
      "Answer Relevancy: 0.9401048946042566\n",
      "Context Recall: 1.0\n",
      "====================================================================================================\n",
      "Question: How many versions of Llama model are there?\n",
      "Answer: Based on the provided context, there are at least 4 versions of the Llama model mentioned:\n",
      "\n",
      "1. Llama 2\n",
      "2. Llama 3 (8B)\n",
      "3. Llama 3 (70B)\n",
      "4. Llama 3 (400B+)\n",
      "\n",
      "Additionally, it is mentioned that Meta AI has released versions with parameters of 7B, 13B, and 34B.\n",
      "Ground Truth:  There are three versions of the Llama model.\n",
      "Context Relevancy: 0.0037593984962406013\n",
      "Context Precision: 0.4166666666458333\n",
      "Faithfulness: 1.0\n",
      "Answer Relevancy: 0.7381775412811876\n",
      "Context Recall: 0.5\n",
      "====================================================================================================\n",
      "Question: How is Llama 3 model different from GPT-3?\n",
      "Answer: Based on the provided context, it can be seen that there are minor architectural differences between LLaMA and GPT-3. Specifically:\n",
      "\n",
      "* LLaMA uses SwiGLU activation function instead of GeLU.\n",
      "* LLaMA uses rotary positional embeddings instead of absolute positional embedding.\n",
      "* LLaMA uses root-mean-squared layer normalization instead of standard layer normalization.\n",
      "* The context length in LLaMA 3 is increased to 8k, compared to 4k in GPT-3.\n",
      "Ground Truth:  There are minor architectural differences. Compared to GPT-3, LLaMA uses SwiGLU activation function instead of GeLU; uses rotary positional embeddings instead of absolute positional embedding; uses root-mean-squared layer-normalization instead of standard layer-normalization; increases context length to 8k in Llama 3 (compared to 4k in Llama 2 and 2k in Llama 1 and GPT-3)\n",
      "Context Relevancy: 0.023972602739726026\n",
      "Context Precision: 0.999999999975\n",
      "Faithfulness: 0.7\n",
      "Answer Relevancy: 0.6653728117422553\n",
      "Context Recall: 1.0\n",
      "====================================================================================================\n",
      "Question: Can you provide some information about the training datset of Llama-1 model?\n",
      "Answer: According to the provided context, there is no specific information about the training dataset of Llama-1 model. However, it does mention that the developers of Llama focused their effort on scaling the model's performance by increasing the volume of training data, rather than the number of parameters, and that the dominating cost for LLMs is from doing inference on the trained model rather than the computational cost of the training process.\n",
      "\n",
      "It also mentions that another foundation model was created for Python code, which trained on 100B tokens of Python-only code, before the long-context data.\n",
      "Ground Truth:  LLaMA 1 foundational models were trained on a data set with 1.4 trillion tokens, drawn from publicly available data sources, including: Webpages scraped by CommonCrawl; Open source repositories of source code from GitHub; Wikipedia in 20 different languages; Public domain books from Project Gutenberg; Books3 books dataset; The LaTeX source code for scientific papers uploaded to ArXiv; Questions and answers from Stack Exchange websites. On April 17, 2023, TogetherAI launched a project named RedPajama to reproduce and distribute an open source version of the LLaMA dataset. The dataset has approximately 1.2 trillion tokens and is publicly available for download\n",
      "Context Relevancy: 0.00684931506849315\n",
      "Context Precision: 0.999999999975\n",
      "Faithfulness: 0.6666666666666666\n",
      "Answer Relevancy: 0.0\n",
      "Context Recall: 1.0\n",
      "====================================================================================================\n",
      "Question: What is the context length of Llama 3 model?\n",
      "Answer: Based on the given context, the answer to the question \"What is the context length of Llama 3 model?\" can be found in the second document (page_content) where it says:\n",
      "\n",
      "\"...Corpus size\\n...Context length...\\n6,300...\"\n",
      "\n",
      "So, the context length of Llama 3 model is 6,300.\n",
      "Ground Truth:  The context length of Llama 3 model is 8192 tokens.\n",
      "Context Relevancy: 0.007272727272727273\n",
      "Context Precision: 0.49999999995\n",
      "Faithfulness: 1.0\n",
      "Answer Relevancy: 0.9999999986041614\n",
      "Context Recall: 1.0\n",
      "====================================================================================================\n",
      "\\_/\\_/\\_/\\_/\\_/\\_/\\_/\\_/\\_/\\_/\\_/\\_/\\_/\\_/\\_/\\_/\\_/\\_/\\_/\\_/\\_/\\_/\\_/\\_/\\_/\\_/\\_/\\_/\\_/\\_/\\_/\\_/\\_/\\_/\\_/\\_/\\_/\\_/\\_/\\_/\\_/\\_/\\_/\\_/\\_/\\_/\\_/\\_/\\_/\\_/\n"
     ]
    },
    {
     "data": {
      "application/vnd.jupyter.widget-view+json": {
       "model_id": "ae8d3c8405da4519a7b4e1312f7fc506",
       "version_major": 2,
       "version_minor": 0
      },
      "text/plain": [
       "Evaluating:   0%|          | 0/25 [00:00<?, ?it/s]"
      ]
     },
     "metadata": {},
     "output_type": "display_data"
    },
    {
     "name": "stderr",
     "output_type": "stream",
     "text": [
      "Failed to parse output. Returning None.\n",
      "Failed to parse output. Returning None.\n"
     ]
    },
    {
     "name": "stdout",
     "output_type": "stream",
     "text": [
      "Embedding Model: BAAI/bge-large-en\n",
      "Question: What is the developer of Llama model?\n",
      "Answer: The context does not explicitly mention the developer of the Llama model. However, it mentions Georgi Gerganov as the software developer who released an open-source re-implementation of LLaMA in C++ (llama.cpp) on March 10, 2023. It is possible that Georgi Gerganov may have contributed to or been involved with the development of the original LLaMA model, but this is not explicitly stated in the provided context.\n",
      "Ground Truth:  Meta AI is the developer of the Llama model.\n",
      "Context Relevancy: 0.011278195488721804\n",
      "Context Precision: 0.9999999999666667\n",
      "Faithfulness: 0.5\n",
      "Answer Relevancy: 0.9175956496262582\n",
      "Context Recall: 1.0\n",
      "====================================================================================================\n",
      "Question: How many versions of Llama model are there?\n",
      "Answer: Based on the provided context, I can answer your question. \n",
      "\n",
      "According to the document, there are at least three versions of the Llama model:\n",
      "\n",
      "1. Original LLaMA (only available as a foundation model)\n",
      "2. LLaMA 2 (released in partnership with Microsoft)\n",
      "\n",
      "Additionally, it is mentioned that smaller versions of the models might be released for specific use cases in the future.\n",
      "\n",
      "Please note that this information is based only on the provided context and may not represent the complete or most up-to-date information about the Llama model.\n",
      "Ground Truth:  There are three versions of the Llama model.\n",
      "Context Relevancy: 0.003676470588235294\n",
      "Context Precision: 0.49999999995\n",
      "Faithfulness: 0.3333333333333333\n",
      "Answer Relevancy: 0.9733912861838862\n",
      "Context Recall: 1.0\n",
      "====================================================================================================\n",
      "Question: How is Llama 3 model different from GPT-3?\n",
      "Answer: Based on the context, LLaMA 3 model differs from GPT-3 in the following ways:\n",
      "\n",
      "1. Activation function: LLaMA uses SwiGLU activation function instead of GeLU.\n",
      "2. Positional embeddings: LLaMA uses rotary positional embeddings instead of absolute positional embedding.\n",
      "3. Layer normalization: LLaMA uses root-mean-squared layer-normalization instead of standard layer-normalization.\n",
      "4. Context length: LLaMA 3 model increases context length to 8k, whereas GPT-3 has a shorter context length.\n",
      "\n",
      "These differences are mentioned in the document on page 3.\n",
      "Ground Truth:  There are minor architectural differences. Compared to GPT-3, LLaMA uses SwiGLU activation function instead of GeLU; uses rotary positional embeddings instead of absolute positional embedding; uses root-mean-squared layer-normalization instead of standard layer-normalization; increases context length to 8k in Llama 3 (compared to 4k in Llama 2 and 2k in Llama 1 and GPT-3)\n",
      "Context Relevancy: 0.01984126984126984\n",
      "Context Precision: 0.999999999975\n",
      "Faithfulness: 0.8\n",
      "Answer Relevancy: 0.9873341240679746\n",
      "Context Recall: 0.0\n",
      "====================================================================================================\n",
      "Question: Can you provide some information about the training datset of Llama-1 model?\n",
      "Answer: Based on the provided context, there is no specific information about the training dataset of Llama-1 model. The text only mentions the training dataset for Llama-2 and Llama models in general. According to page 4 of the document, Llama-2 foundational models were trained on a data set with 2 trillion tokens. This data set was curated to remove Web sites that often disclose personal data of people. It also upsamples sources considered trustworthy.\n",
      "Ground Truth:  LLaMA 1 foundational models were trained on a data set with 1.4 trillion tokens, drawn from publicly available data sources, including: Webpages scraped by CommonCrawl; Open source repositories of source code from GitHub; Wikipedia in 20 different languages; Public domain books from Project Gutenberg; Books3 books dataset; The LaTeX source code for scientific papers uploaded to ArXiv; Questions and answers from Stack Exchange websites. On April 17, 2023, TogetherAI launched a project named RedPajama to reproduce and distribute an open source version of the LLaMA dataset. The dataset has approximately 1.2 trillion tokens and is publicly available for download\n",
      "Context Relevancy: 0.009230769230769232\n",
      "Context Precision: 0.999999999975\n",
      "Faithfulness: 0.4\n",
      "Answer Relevancy: 0.9764881904991706\n",
      "Context Recall: nan\n",
      "====================================================================================================\n",
      "Question: What is the context length of Llama 3 model?\n",
      "Answer: Based on the provided context, the answer to your question is:\n",
      "\n",
      "The context length of Llama 3 model is 8K tokens. This information can be found in Document(metadata={'source': '../data/Llama (language model).pdf', 'page': 4, '_id': '3fa0d010db374a94abdcddbe0c443de2', '_collection_name': 'my_documents'}, page_content='...Unlike GPT-4 which increased context length during fine-tuning, Llama 2 and Code Llama - Chat have the same context length of 4K tokens. Llama 3 increases context length to 8k in Llama 3 (compared to 4k in Llama 2 and 2k in Llama 1 and)')\n",
      "Ground Truth:  The context length of Llama 3 model is 8192 tokens.\n",
      "Context Relevancy: 0.009433962264150943\n",
      "Context Precision: 0.8055555555287036\n",
      "Faithfulness: nan\n",
      "Answer Relevancy: 0.9999999999999524\n",
      "Context Recall: 1.0\n",
      "====================================================================================================\n",
      "\\_/\\_/\\_/\\_/\\_/\\_/\\_/\\_/\\_/\\_/\\_/\\_/\\_/\\_/\\_/\\_/\\_/\\_/\\_/\\_/\\_/\\_/\\_/\\_/\\_/\\_/\\_/\\_/\\_/\\_/\\_/\\_/\\_/\\_/\\_/\\_/\\_/\\_/\\_/\\_/\\_/\\_/\\_/\\_/\\_/\\_/\\_/\\_/\\_/\\_/\n"
     ]
    },
    {
     "data": {
      "application/vnd.jupyter.widget-view+json": {
       "model_id": "3de74fd66fff4bdca2e04932899a3227",
       "version_major": 2,
       "version_minor": 0
      },
      "text/plain": [
       "Evaluating:   0%|          | 0/25 [00:00<?, ?it/s]"
      ]
     },
     "metadata": {},
     "output_type": "display_data"
    },
    {
     "name": "stdout",
     "output_type": "stream",
     "text": [
      "Embedding Model: BAAI/bge-small-en\n",
      "Question: What is the developer of Llama model?\n",
      "Answer: Based on the provided context, there is no information that mentions a specific developer of the Llama model. The documents only mention Meta AI and Georgi Gerganov (the software developer who released llama.cpp as open-source).\n",
      "Ground Truth:  Meta AI is the developer of the Llama model.\n",
      "Context Relevancy: 0.011673151750972763\n",
      "Context Precision: 0.999999999975\n",
      "Faithfulness: 0.5\n",
      "Answer Relevancy: 0.0\n",
      "Context Recall: 0.5\n",
      "====================================================================================================\n",
      "Question: How many versions of Llama model are there?\n",
      "Answer: Based on the provided context, there are at least two versions of the Llama model mentioned:\n",
      "\n",
      "1. LLaMA-1 (mentioned as having an unchanged architecture compared to LLaMA-2)\n",
      "2. LLaMA-2 (introduced in partnership with Microsoft and Meta)\n",
      "\n",
      "Additionally, a future version is mentioned: a 34B parameter model that might be released upon satisfying safety targets.\n",
      "\n",
      "There is also mention of subsequent versions being made accessible outside academia and released under licenses permitting some commercial use, but these are not specified by name.\n",
      "Ground Truth:  There are three versions of the Llama model.\n",
      "Context Relevancy: 0.0037174721189591076\n",
      "Context Precision: 0.99999999995\n",
      "Faithfulness: 0.75\n",
      "Answer Relevancy: 0.9715502059894735\n",
      "Context Recall: 1.0\n",
      "====================================================================================================\n",
      "Question: How is Llama 3 model different from GPT-3?\n",
      "Answer: According to the context, LLaMA uses:\n",
      "\n",
      "* SwiGLU activation function instead of GeLU\n",
      "* Rotary positional embeddings instead of absolute positional embedding\n",
      "* Root-mean-squared layer-normalization instead of standard layer-normalization\n",
      "\n",
      "These are the differences between LLaMA 3 and GPT-3.\n",
      "Ground Truth:  There are minor architectural differences. Compared to GPT-3, LLaMA uses SwiGLU activation function instead of GeLU; uses rotary positional embeddings instead of absolute positional embedding; uses root-mean-squared layer-normalization instead of standard layer-normalization; increases context length to 8k in Llama 3 (compared to 4k in Llama 2 and 2k in Llama 1 and GPT-3)\n",
      "Context Relevancy: 0.011235955056179775\n",
      "Context Precision: 0.9166666666361111\n",
      "Faithfulness: 1.0\n",
      "Answer Relevancy: 0.9843660009398584\n",
      "Context Recall: 0.8333333333333334\n",
      "====================================================================================================\n",
      "Question: Can you provide some information about the training datset of Llama-1 model?\n",
      "Answer: Based on the provided context, there is no specific information mentioned about the training dataset for the Llama-1 model. However, it is mentioned that \"LLaMA's developers focused their effort on scaling the model's performance by increasing the volume of training data, rather than the number of parameters, reasoning that the dominating cost for LLMs is from doing inference on the trained model rather than the computational cost of the training process.\" This suggests that the focus was on using a large volume of training data to improve the model's performance, but it does not provide specific details about the dataset used.\n",
      "Ground Truth:  LLaMA 1 foundational models were trained on a data set with 1.4 trillion tokens, drawn from publicly available data sources, including: Webpages scraped by CommonCrawl; Open source repositories of source code from GitHub; Wikipedia in 20 different languages; Public domain books from Project Gutenberg; Books3 books dataset; The LaTeX source code for scientific papers uploaded to ArXiv; Questions and answers from Stack Exchange websites. On April 17, 2023, TogetherAI launched a project named RedPajama to reproduce and distribute an open source version of the LLaMA dataset. The dataset has approximately 1.2 trillion tokens and is publicly available for download\n",
      "Context Relevancy: 0.009933774834437087\n",
      "Context Precision: 0.999999999975\n",
      "Faithfulness: 0.25\n",
      "Answer Relevancy: 0.899400994977393\n",
      "Context Recall: 0.42857142857142855\n",
      "====================================================================================================\n",
      "Question: What is the context length of Llama 3 model?\n",
      "Answer: Based on the provided context, I can find the information about Llama 3 model's context length. According to the document with metadata {'page': 4}, the context length of Llama 3 model is not explicitly mentioned. However, it mentions that Code Llama - Chat has a context length of 100,000 tokens (document with metadata {'page': 0}). Since Llama 3 is mentioned as \"Llama 3\" and not \"Code Llama\", I assume the context length might be different from that of Code Llama - Chat. Unfortunately, there is no specific information about Llama 3 model's context length in the provided context.\n",
      "Ground Truth:  The context length of Llama 3 model is 8192 tokens.\n",
      "Context Relevancy: 0.007352941176470588\n",
      "Context Precision: 0.7499999999625\n",
      "Faithfulness: 0.6\n",
      "Answer Relevancy: 0.0\n",
      "Context Recall: 1.0\n",
      "====================================================================================================\n",
      "\\_/\\_/\\_/\\_/\\_/\\_/\\_/\\_/\\_/\\_/\\_/\\_/\\_/\\_/\\_/\\_/\\_/\\_/\\_/\\_/\\_/\\_/\\_/\\_/\\_/\\_/\\_/\\_/\\_/\\_/\\_/\\_/\\_/\\_/\\_/\\_/\\_/\\_/\\_/\\_/\\_/\\_/\\_/\\_/\\_/\\_/\\_/\\_/\\_/\\_/\n"
     ]
    },
    {
     "data": {
      "application/vnd.jupyter.widget-view+json": {
       "model_id": "a94f42325b3b40af85f9c9f4ef91dd33",
       "version_major": 2,
       "version_minor": 0
      },
      "text/plain": [
       "Loading checkpoint shards:   0%|          | 0/3 [00:00<?, ?it/s]"
      ]
     },
     "metadata": {},
     "output_type": "display_data"
    },
    {
     "data": {
      "application/vnd.jupyter.widget-view+json": {
       "model_id": "16b1561f940b41d782b37a055bf63ce1",
       "version_major": 2,
       "version_minor": 0
      },
      "text/plain": [
       "Evaluating:   0%|          | 0/25 [00:00<?, ?it/s]"
      ]
     },
     "metadata": {},
     "output_type": "display_data"
    },
    {
     "name": "stderr",
     "output_type": "stream",
     "text": [
      "Failed to parse output. Returning None.\n"
     ]
    },
    {
     "name": "stdout",
     "output_type": "stream",
     "text": [
      "Embedding Model: Salesforce/SFR-Embedding-2_R\n",
      "Question: What is the developer of Llama model?\n",
      "Answer: According to the given context, the developer(s) of the Llama model are Meta AI.\n",
      "Ground Truth:  Meta AI is the developer of the Llama model.\n",
      "Context Relevancy: 0.018633540372670808\n",
      "Context Precision: 0.99999999995\n",
      "Faithfulness: 1.0\n",
      "Answer Relevancy: 0.9480041718419262\n",
      "Context Recall: 1.0\n",
      "====================================================================================================\n",
      "Question: How many versions of Llama model are there?\n",
      "Answer: Based on the provided context, there are 3 versions of Llama model:\n",
      "\n",
      "1. LLaMA (version 1) - released in February 2023\n",
      "2. LLaMA (version 2) - released in July 2023\n",
      "3. LLaMA (version 3) - released in April 2024\n",
      "Ground Truth:  There are three versions of the Llama model.\n",
      "Context Relevancy: 0.013636363636363636\n",
      "Context Precision: 0.99999999995\n",
      "Faithfulness: 1.0\n",
      "Answer Relevancy: 0.9034576578961343\n",
      "Context Recall: 1.0\n",
      "====================================================================================================\n",
      "Question: How is Llama 3 model different from GPT-3?\n",
      "Answer: According to the provided context, LLaMA's 3 model is different from GPT-3 in the following ways:\n",
      "\n",
      "* It uses SwiGLU activation function instead of GeLU.\n",
      "* It uses rotary positional embeddings instead of absolute positional embedding.\n",
      "* It uses root-mean-squared layer-normalization instead of standard layer-normalization.\n",
      "\n",
      "Additionally, LLaMA 3 has a longer context length (8k) compared to GPT-3.\n",
      "Ground Truth:  There are minor architectural differences. Compared to GPT-3, LLaMA uses SwiGLU activation function instead of GeLU; uses rotary positional embeddings instead of absolute positional embedding; uses root-mean-squared layer-normalization instead of standard layer-normalization; increases context length to 8k in Llama 3 (compared to 4k in Llama 2 and 2k in Llama 1 and GPT-3)\n",
      "Context Relevancy: 0.00816326530612245\n",
      "Context Precision: 0.999999999975\n",
      "Faithfulness: 1.0\n",
      "Answer Relevancy: 0.9272576632882652\n",
      "Context Recall: 0.5\n",
      "====================================================================================================\n",
      "Question: Can you provide some information about the training datset of Llama-1 model?\n",
      "Answer: Based on the provided context, we can find the information about the training dataset of Llama-1 model.\n",
      "\n",
      "According to Document(metadata={'source': '../data/Llama (language model).pdf', 'page': 4, '_id': 'c0256889d06f4599a86d92700ee4cb54', '_collection_name': 'my_documents'}, page_content='...'), the training dataset for LLaMA-1 was:\n",
      "\n",
      "\"...foundational models were trained on a data set with 1.4 trillion tokens, drawn from publicly available data sources, including:\n",
      "...\n",
      "Webpages scraped by CommonCrawl\n",
      "Open source repositories of source code from GitHub\n",
      "Wikipedia in 20 different languages\n",
      "Public domain books from Project Gutenberg\n",
      "Books3 books dataset\n",
      "The LaTeX source code for scientific papers uploaded to ArXiv\n",
      "Questions and answers from Stack Exchange websites...\"\n",
      "\n",
      "So, the training dataset for LLaMA-1 consisted of 1.4 trillion tokens sourced from various publicly available data sources.\n",
      "Ground Truth:  LLaMA 1 foundational models were trained on a data set with 1.4 trillion tokens, drawn from publicly available data sources, including: Webpages scraped by CommonCrawl; Open source repositories of source code from GitHub; Wikipedia in 20 different languages; Public domain books from Project Gutenberg; Books3 books dataset; The LaTeX source code for scientific papers uploaded to ArXiv; Questions and answers from Stack Exchange websites. On April 17, 2023, TogetherAI launched a project named RedPajama to reproduce and distribute an open source version of the LLaMA dataset. The dataset has approximately 1.2 trillion tokens and is publicly available for download\n",
      "Context Relevancy: 0.00967741935483871\n",
      "Context Precision: 0.999999999975\n",
      "Faithfulness: 0.5\n",
      "Answer Relevancy: 0.9309625231929214\n",
      "Context Recall: nan\n",
      "====================================================================================================\n",
      "Question: What is the context length of Llama 3 model?\n",
      "Answer: Based on the provided context, I can answer your question.\n",
      "\n",
      "According to page content of Document(metadata={'source': '../data/Llama (language model).pdf', 'page': 3, '_id': '2266278925354acba4fdbfe1ceb22b87', '_collection_name': 'my_documents'}), the context length of Llama 3 is 8k.\n",
      "Ground Truth:  The context length of Llama 3 model is 8192 tokens.\n",
      "Context Relevancy: 0.014018691588785047\n",
      "Context Precision: 0.99999999995\n",
      "Faithfulness: 1.0\n",
      "Answer Relevancy: 0.9266958228245827\n",
      "Context Recall: 1.0\n",
      "====================================================================================================\n",
      "\\_/\\_/\\_/\\_/\\_/\\_/\\_/\\_/\\_/\\_/\\_/\\_/\\_/\\_/\\_/\\_/\\_/\\_/\\_/\\_/\\_/\\_/\\_/\\_/\\_/\\_/\\_/\\_/\\_/\\_/\\_/\\_/\\_/\\_/\\_/\\_/\\_/\\_/\\_/\\_/\\_/\\_/\\_/\\_/\\_/\\_/\\_/\\_/\\_/\\_/\n"
     ]
    },
    {
     "data": {
      "application/vnd.jupyter.widget-view+json": {
       "model_id": "7fbb8560aac24d5ca23ad7c22d5bceeb",
       "version_major": 2,
       "version_minor": 0
      },
      "text/plain": [
       "Loading checkpoint shards:   0%|          | 0/7 [00:00<?, ?it/s]"
      ]
     },
     "metadata": {},
     "output_type": "display_data"
    },
    {
     "name": "stderr",
     "output_type": "stream",
     "text": [
      "Special tokens have been added in the vocabulary, make sure the associated word embeddings are fine-tuned or trained.\n"
     ]
    },
    {
     "data": {
      "application/vnd.jupyter.widget-view+json": {
       "model_id": "9561cb37b34a4caab6cdc229cab37af5",
       "version_major": 2,
       "version_minor": 0
      },
      "text/plain": [
       "Evaluating:   0%|          | 0/25 [00:00<?, ?it/s]"
      ]
     },
     "metadata": {},
     "output_type": "display_data"
    },
    {
     "name": "stderr",
     "output_type": "stream",
     "text": [
      "Failed to parse output. Returning None.\n"
     ]
    },
    {
     "name": "stdout",
     "output_type": "stream",
     "text": [
      "Embedding Model: Alibaba-NLP/gte-Qwen2-7B-instruct\n",
      "Question: What is the developer of Llama model?\n",
      "Answer: Based on the provided context, it can be inferred that Meta adopted the strategy of open weights to improve model safety and increase adoption among developers and researchers. However, there is no direct information about the developer of the Llama model. The documents mention \"LLaMA\" as the name of the language model, but do not explicitly state who developed it.\n",
      "Ground Truth:  Meta AI is the developer of the Llama model.\n",
      "Context Relevancy: 0.005649717514124294\n",
      "Context Precision: 0.499999999975\n",
      "Faithfulness: 1.0\n",
      "Answer Relevancy: 0.0\n",
      "Context Recall: 1.0\n",
      "====================================================================================================\n",
      "Question: How many versions of Llama model are there?\n",
      "Answer: Based on the given context, I can see that there is a mention of different versions of the LLaMA model:\n",
      "\n",
      "* \"LLaMA 2\"\n",
      "* \"LLaMA 3\"\n",
      "* \"LLaMA 5\" (planned for the future)\n",
      "* \"LLaMA 6\" (planned for the future)\n",
      "* \"LLaMA 7\" (planned for the future)\n",
      "\n",
      "Additionally, there is a mention of \"Llama 1\" and \"Llama 2\" in comparison to LLaMA 3.\n",
      "\n",
      "Therefore, I can conclude that there are at least 4 versions of the LLaMA model mentioned: LLaMA 1, LLaMA 2, LLaMA 3, and three planned future versions (LLaMA 5, 6, and 7).\n",
      "Ground Truth:  There are three versions of the Llama model.\n",
      "Context Relevancy: 0.01020408163265306\n",
      "Context Precision: 0.8055555555287036\n",
      "Faithfulness: 1.0\n",
      "Answer Relevancy: 0.8584995331603172\n",
      "Context Recall: 1.0\n",
      "====================================================================================================\n",
      "Question: How is Llama 3 model different from GPT-3?\n",
      "Answer: According to the context, LLaMA 3 uses three main differences compared to GPT-3:\n",
      "\n",
      "1. **Activation function**: LLaMA 3 uses SwiGLU activation function instead of GeLU.\n",
      "2. **Positional embeddings**: LLaMA 3 uses rotary positional embeddings instead of absolute positional embedding.\n",
      "3. **Layer normalization**: LLaMA 3 uses root-mean-squared layer-normalization instead of standard layer-normalization.\n",
      "\n",
      "These differences contribute to the unique characteristics of the LLaMA 3 model.\n",
      "Ground Truth:  There are minor architectural differences. Compared to GPT-3, LLaMA uses SwiGLU activation function instead of GeLU; uses rotary positional embeddings instead of absolute positional embedding; uses root-mean-squared layer-normalization instead of standard layer-normalization; increases context length to 8k in Llama 3 (compared to 4k in Llama 2 and 2k in Llama 1 and GPT-3)\n",
      "Context Relevancy: 0.012048192771084338\n",
      "Context Precision: 0.6388888888675925\n",
      "Faithfulness: 1.0\n",
      "Answer Relevancy: 0.9173343412450228\n",
      "Context Recall: 0.8\n",
      "====================================================================================================\n",
      "Question: Can you provide some information about the training datset of Llama-1 model?\n",
      "Answer: I apologize, but there is no information about the training dataset of Llama-1 model in the provided context. The text only mentions that LLaMA's developers focused their effort on scaling the model's performance by increasing the volume of training data for LLaMA's 3rd version (Llama-3), not for LLaMA-1.\n",
      "Ground Truth:  LLaMA 1 foundational models were trained on a data set with 1.4 trillion tokens, drawn from publicly available data sources, including: Webpages scraped by CommonCrawl; Open source repositories of source code from GitHub; Wikipedia in 20 different languages; Public domain books from Project Gutenberg; Books3 books dataset; The LaTeX source code for scientific papers uploaded to ArXiv; Questions and answers from Stack Exchange websites. On April 17, 2023, TogetherAI launched a project named RedPajama to reproduce and distribute an open source version of the LLaMA dataset. The dataset has approximately 1.2 trillion tokens and is publicly available for download\n",
      "Context Relevancy: 0.00966183574879227\n",
      "Context Precision: 0.999999999975\n",
      "Faithfulness: 0.0\n",
      "Answer Relevancy: 0.0\n",
      "Context Recall: 0.5\n",
      "====================================================================================================\n",
      "Question: What is the context length of Llama 3 model?\n",
      "Answer: According to the provided context, the context length of Llama 3 model is 8k. This is mentioned in Document(metadata={'source': '../data/Llama (language model).pdf', 'page': 2, '_id': '', '_collection_name': 'my_documents'}, page_content='...uses rotary positional embeddings [35] instead of absolute positional embedding; ● uses root-mean-squared layer-normalization [36] instead of standard layer-normalization. [37] ● increases context length to 8k in Llama 3 (compared to 4k in Llama 2 and 2k in Llama 1 and').\n",
      "Ground Truth:  The context length of Llama 3 model is 8192 tokens.\n",
      "Context Relevancy: 0.0047169811320754715\n",
      "Context Precision: 0.49999999995\n",
      "Faithfulness: nan\n",
      "Answer Relevancy: 0.9999999999980403\n",
      "Context Recall: 1.0\n",
      "====================================================================================================\n",
      "\\_/\\_/\\_/\\_/\\_/\\_/\\_/\\_/\\_/\\_/\\_/\\_/\\_/\\_/\\_/\\_/\\_/\\_/\\_/\\_/\\_/\\_/\\_/\\_/\\_/\\_/\\_/\\_/\\_/\\_/\\_/\\_/\\_/\\_/\\_/\\_/\\_/\\_/\\_/\\_/\\_/\\_/\\_/\\_/\\_/\\_/\\_/\\_/\\_/\\_/\n"
     ]
    }
   ],
   "source": [
    "context_relevancy_result, context_precision_result, context_recall_result, faithfulness_result, answer_relevancy_result = [], [], [], [], []\n",
    "for embedding_model_name in tqdm(embedding_models, desc=\"Embedding Models\"):\n",
    "    embeddings = HuggingFaceEmbeddings(model_name=embedding_model_name)\n",
    "    retriever = index_documents_and_retrieve(docs, embeddings)\n",
    "    rag_chain = build_rag_chain(llm, retriever)\n",
    "    dataset = create_test_case(questions, ground_truth, rag_chain, retriever)\n",
    "    evaluation_result = evaluate_rag(dataset, llm, embeddings)\n",
    "\n",
    "\n",
    "    context_relevancy_result.append(evaluation_result['context_relevancy'])\n",
    "    context_precision_result.append(evaluation_result['context_precision'])\n",
    "    context_recall_result.append(evaluation_result['context_recall'])\n",
    "    faithfulness_result.append(evaluation_result['faithfulness'])\n",
    "    answer_relevancy_result.append(evaluation_result['answer_relevancy'])\n",
    "\n",
    "    print(f\"Embedding Model: {embedding_model_name}\")\n",
    "    for rows in evaluation_result.to_pandas().iterrows():\n",
    "        print(f\"Question: {rows[1]['question']}\")\n",
    "        print(f\"Answer: {rows[1]['answer']}\")\n",
    "        print(\"Ground Truth: \", rows[1]['ground_truth'])\n",
    "        print(f\"Context Relevancy: {rows[1]['context_relevancy']}\")\n",
    "        print(f\"Context Precision: {rows[1]['context_precision']}\")\n",
    "        print(f\"Faithfulness: {rows[1]['faithfulness']}\")\n",
    "        print(f\"Answer Relevancy: {rows[1]['answer_relevancy']}\")\n",
    "        print(f\"Context Recall: {rows[1]['context_recall']}\")\n",
    "        print(\"=\"*100)\n",
    "    print(\"\\\\_/\"*50)"
   ]
  },
  {
   "cell_type": "code",
   "execution_count": 31,
   "metadata": {},
   "outputs": [],
   "source": [
    "from matplotlib import pyplot as plt"
   ]
  },
  {
   "cell_type": "code",
   "execution_count": 32,
   "metadata": {},
   "outputs": [
    {
     "name": "stderr",
     "output_type": "stream",
     "text": [
      "/tmp/ipykernel_2087241/1075847065.py:5: UserWarning: set_ticklabels() should only be used with a fixed number of ticks, i.e. after set_ticks() or using a FixedLocator.\n",
      "  ax[0].set_xticklabels(embedding_models, rotation=90)\n",
      "/tmp/ipykernel_2087241/1075847065.py:9: UserWarning: set_ticklabels() should only be used with a fixed number of ticks, i.e. after set_ticks() or using a FixedLocator.\n",
      "  ax[1].set_xticklabels(embedding_models, rotation=90)\n",
      "/tmp/ipykernel_2087241/1075847065.py:13: UserWarning: set_ticklabels() should only be used with a fixed number of ticks, i.e. after set_ticks() or using a FixedLocator.\n",
      "  ax[2].set_xticklabels(embedding_models, rotation=90)\n",
      "/tmp/ipykernel_2087241/1075847065.py:17: UserWarning: set_ticklabels() should only be used with a fixed number of ticks, i.e. after set_ticks() or using a FixedLocator.\n",
      "  ax[3].set_xticklabels(embedding_models, rotation=90)\n",
      "/tmp/ipykernel_2087241/1075847065.py:21: UserWarning: set_ticklabels() should only be used with a fixed number of ticks, i.e. after set_ticks() or using a FixedLocator.\n",
      "  ax[4].set_xticklabels(embedding_models, rotation=90)\n"
     ]
    },
    {
     "data": {
      "image/png": "[encoded data removed]",
      "text/plain": [
       "<Figure size 2000x500 with 5 Axes>"
      ]
     },
     "metadata": {},
     "output_type": "display_data"
    }
   ],
   "source": [
    "_, ax = plt.subplots(1, 5, figsize=(20, 5))\n",
    "\n",
    "ax[0].bar(embedding_models, context_relevancy_result)\n",
    "ax[0].set_title(\"Context Relevancy\")\n",
    "ax[0].set_xticklabels(embedding_models, rotation=90)\n",
    "\n",
    "ax[1].bar(embedding_models, context_precision_result)\n",
    "ax[1].set_title(\"Context Precision\")\n",
    "ax[1].set_xticklabels(embedding_models, rotation=90)\n",
    "\n",
    "ax[2].bar(embedding_models, context_recall_result)\n",
    "ax[2].set_title(\"Context Recall\")\n",
    "ax[2].set_xticklabels(embedding_models, rotation=90)\n",
    "\n",
    "ax[3].bar(embedding_models, faithfulness_result)\n",
    "ax[3].set_title(\"Faithfulness\")\n",
    "ax[3].set_xticklabels(embedding_models, rotation=90)\n",
    "\n",
    "ax[4].bar(embedding_models, answer_relevancy_result)\n",
    "ax[4].set_title(\"Answer Relevancy\")\n",
    "ax[4].set_xticklabels(embedding_models, rotation=90)\n",
    "\n",
    "plt.show()"
   ]
  },
  {
   "cell_type": "code",
   "execution_count": null,
   "metadata": {},
   "outputs": [],
   "source": []
  }
 ],
 "metadata": {
  "kernelspec": {
   "display_name": "ai-chatbot",
   "language": "python",
   "name": "python3"
  },
  "language_info": {
   "codemirror_mode": {
    "name": "ipython",
    "version": 3
   },
   "file_extension": ".py",
   "mimetype": "text/x-python",
   "name": "python",
   "nbconvert_exporter": "python",
   "pygments_lexer": "ipython3",
   "version": "3.12.2"
  }
 },
 "nbformat": 4,
 "nbformat_minor": 2
}
