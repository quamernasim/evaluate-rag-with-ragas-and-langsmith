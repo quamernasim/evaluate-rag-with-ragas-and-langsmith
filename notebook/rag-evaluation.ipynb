{
 "cells": [
  {
   "cell_type": "markdown",
   "metadata": {},
   "source": [
    "In the previous section we saw how we could build a simple RAG app that could be used to generate an answer based on the user's query with the help of custom pdf. Now in this section we will see how we can use the same app and evaluate it using the RAG metric provided by the RAGAS library."
   ]
  },
  {
   "cell_type": "markdown",
   "metadata": {},
   "source": [
    "Before showing how we can evaluate the RAG app, let's first create a set of questions and ground truth answers to evaluate the model. This will help us to evaluate the RAG Application performance. For the ease and simplicity, we will only use 5 questions and their ground truth answers extracted from the Llama document we just loaded."
   ]
  },
  {
   "cell_type": "code",
   "execution_count": 1,
   "metadata": {},
   "outputs": [],
   "source": [
    "questions = [\n",
    "    \"What is the developer of Llama model?\",\n",
    "    \"How many versions of Llama model are there?\",\n",
    "    \"How is Llama 3 model different from GPT-3?\",\n",
    "    \"Can you provide some information about the training datset of Llama-1 model?\",\n",
    "    \"What is the context length of Llama 3 model?\",\n",
    "]\n",
    "\n",
    "ground_truth = [\n",
    "    \"Meta AI is the developer of the Llama model.\",\n",
    "    \"There are three versions of the Llama model.\",\n",
    "    \"There are minor architectural differences. Compared to GPT-3, LLaMA uses SwiGLU activation function instead of GeLU; uses rotary positional embeddings instead of absolute positional embedding; uses root-mean-squared layer-normalization instead of standard layer-normalization; increases context length to 8k in Llama 3 (compared to 4k in Llama 2 and 2k in Llama 1 and GPT-3)\",\n",
    "    \"LLaMA 1 foundational models were trained on a data set with 1.4 trillion tokens, drawn from publicly available data sources, including: Webpages scraped by CommonCrawl; Open source repositories of source code from GitHub; Wikipedia in 20 different languages; Public domain books from Project Gutenberg; Books3 books dataset; The LaTeX source code for scientific papers uploaded to ArXiv; Questions and answers from Stack Exchange websites. On April 17, 2023, TogetherAI launched a project named RedPajama to reproduce and distribute an open source version of the LLaMA dataset. The dataset has approximately 1.2 trillion tokens and is publicly available for download\",\n",
    "    \"The context length of Llama 3 model is 8192 tokens.\",\n",
    "]"
   ]
  },
  {
   "cell_type": "markdown",
   "metadata": {},
   "source": [
    "Great! Now we have the test/evaluation set as well against which we can evaluate the RAG App. Now let's move on to the next step which is properly formatting the evaluation set using the dataset library by huggingface."
   ]
  },
  {
   "cell_type": "code",
   "execution_count": 2,
   "metadata": {},
   "outputs": [],
   "source": [
    "from datasets import Dataset\n",
    "\n",
    "def create_test_case(questions, ground_truth, rag_chain, retriever):\n",
    "    '''\n",
    "    This function creates a test case for the RAG model\n",
    "    It takes a list of questions and the corresponding ground truth answers. \n",
    "    It then uses the RAG model to generate answers for the questions.\n",
    "    It also retrieves the relevant documents for each question.\n",
    "    Finally, it combines all the information into a dataset object and returns it.\n",
    "\n",
    "    Args:\n",
    "        questions: list of strings, questions to be answered\n",
    "        ground_truth: list of strings, corresponding ground truth answers\n",
    "        rag_chain: RAG model\n",
    "        retriever: Retriever object\n",
    "\n",
    "    Returns:\n",
    "        dataset: Dataset object containing the questions, answers, contexts and ground truth answers\n",
    "    '''\n",
    "    \n",
    "    data = {\"question\": [], \"answer\": [], \"contexts\": [], \"ground_truth\": ground_truth}\n",
    "\n",
    "    for query in questions:\n",
    "        data[\"question\"].append(query)\n",
    "        # data[\"answer\"].append(rag_chain.invoke(query)['result'])\n",
    "        data[\"answer\"].append(rag_chain.invoke(query))\n",
    "        data[\"contexts\"].append([doc.page_content for doc in retriever.get_relevant_documents(query)])\n",
    "\n",
    "    dataset = Dataset.from_dict(data)\n",
    "\n",
    "    return dataset"
   ]
  },
  {
   "cell_type": "markdown",
   "metadata": {},
   "source": [
    "For now we will just keep this function to be used later in the evaluation process."
   ]
  },
  {
   "cell_type": "markdown",
   "metadata": {},
   "source": [
    "Now let's create a function that will evaluate the RAG App using the RAGAS library."
   ]
  },
  {
   "cell_type": "code",
   "execution_count": 3,
   "metadata": {},
   "outputs": [],
   "source": [
    "from ragas import evaluate\n",
    "\n",
    "from ragas.metrics import (\n",
    "    faithfulness,\n",
    "    answer_relevancy,\n",
    "    context_relevancy,\n",
    "    context_recall,\n",
    "    context_precision,\n",
    ")\n",
    "\n",
    "import nest_asyncio\n",
    "nest_asyncio.apply()\n",
    "\n",
    "def evaluate_rag(dataset, llm, embeddings):\n",
    "\n",
    "    '''\n",
    "    This function evaluates the RAG model on a dataset using the specified metrics\n",
    "\n",
    "    Args:\n",
    "        dataset: Dataset object containing the questions, answers, contexts and ground truth answers\n",
    "        llm: LLM model\n",
    "        embeddings: Embeddings object\n",
    "\n",
    "    Returns:\n",
    "        result: dictionary containing the evaluation results\n",
    "    '''\n",
    "    result = evaluate(\n",
    "        dataset=dataset,\n",
    "        llm=llm,\n",
    "        embeddings=embeddings,\n",
    "        metrics=[\n",
    "            context_relevancy, \n",
    "            context_precision,\n",
    "            faithfulness,\n",
    "            answer_relevancy,\n",
    "            context_recall,\n",
    "        ],\n",
    "        raise_exceptions=True\n",
    "    )\n",
    "\n",
    "    return result"
   ]
  },
  {
   "cell_type": "markdown",
   "metadata": {},
   "source": [
    "Great! It's as simple as that. Now we can evaluate the RAG App using the RAGAS library. Let's move on to the next step which is to see all these steps in action."
   ]
  },
  {
   "cell_type": "markdown",
   "metadata": {},
   "source": [
    "Now let's quickly load the LLM model."
   ]
  },
  {
   "cell_type": "code",
   "execution_count": 4,
   "metadata": {},
   "outputs": [],
   "source": [
    "from langchain_community.chat_models import ChatOllama\n",
    "\n",
    "model_id = \"llama3:instruct\"\n",
    "\n",
    "llm = ChatOllama(model=model_id)"
   ]
  },
  {
   "cell_type": "markdown",
   "metadata": {},
   "source": [
    "Now let's choose the embeddings model on which we want to evaluate the RAG App. Here in this blog, we will be using 5 types of embeddings models to evaluate the RAG App. These are: dunzhang/stella_en_1.5B_v5, BAAI/bge-large-en, BAAI/bge-small-en, Salesforce/SFR-Embedding-2_R, Alibaba-NLP/gte-Qwen2-7B-instruct. For more information for each of these embeddings models, you can refer to the Huggingface model hub or go to the MTEB Leaderboard."
   ]
  },
  {
   "cell_type": "code",
   "execution_count": 5,
   "metadata": {},
   "outputs": [],
   "source": [
    "embedding_models = ['dunzhang/stella_en_1.5B_v5', 'BAAI/bge-large-en', 'BAAI/bge-small-en', 'Salesforce/SFR-Embedding-2_R', 'Alibaba-NLP/gte-Qwen2-7B-instruct']"
   ]
  },
  {
   "cell_type": "markdown",
   "metadata": {},
   "source": [
    "Now that we have everything in place, let's tie out all the code from this section as well as the previous section to see how our RAG App performs on the evaluation set."
   ]
  },
  {
   "cell_type": "code",
   "execution_count": 6,
   "metadata": {},
   "outputs": [
    {
     "data": {
      "application/vnd.jupyter.widget-view+json": {
       "model_id": "17eb3d35beca4030ae0b1ec045be1401",
       "version_major": 2,
       "version_minor": 0
      },
      "text/plain": [
       "Embedding Models:   0%|          | 0/5 [00:00<?, ?it/s]"
      ]
     },
     "metadata": {},
     "output_type": "display_data"
    },
    {
     "name": "stderr",
     "output_type": "stream",
     "text": [
      "Special tokens have been added in the vocabulary, make sure the associated word embeddings are fine-tuned or trained.\n",
      "We detected that you are passing `past_key_values` as a tuple and this is deprecated and will be removed in v4.43. Please use an appropriate `Cache` class (https://huggingface.co/docs/transformers/v4.41.3/en/internal/generation_utils#transformers.Cache)\n",
      "/home/deepkapha/anaconda3/envs/ai-chatbot/lib/python3.12/site-packages/langchain_core/_api/deprecation.py:139: LangChainDeprecationWarning: The method `BaseRetriever.get_relevant_documents` was deprecated in langchain-core 0.1.46 and will be removed in 0.3.0. Use invoke instead.\n",
      "  warn_deprecated(\n"
     ]
    },
    {
     "data": {
      "application/vnd.jupyter.widget-view+json": {
       "model_id": "9651db90e8e642c0b7dfa7ee91204316",
       "version_major": 2,
       "version_minor": 0
      },
      "text/plain": [
       "Evaluating:   0%|          | 0/25 [00:00<?, ?it/s]"
      ]
     },
     "metadata": {},
     "output_type": "display_data"
    },
    {
     "name": "stdout",
     "output_type": "stream",
     "text": [
      "Embedding Model: dunzhang/stella_en_1.5B_v5\n",
      "Question: What is the developer of Llama model?\n",
      "Answer: Based on the provided context, there is no direct mention of the developer of the Llama model. However, it is mentioned that Meta AI's testing shows that Llama 3 (70B) beats Gemini and Claude in most benchmarks. Additionally, Mark Zuckerberg is quoted as stating that the team was surprised by the 70B model's continued learning at the end of training, suggesting that Meta AI may be involved in the development of the Llama model.\n",
      "Ground Truth:  Meta AI is the developer of the Llama model.\n",
      "Context Relevancy: 0.008849557522123894\n",
      "Context Precision: 0.3333333333\n",
      "Faithfulness: 0.7142857142857143\n",
      "Answer Relevancy: 0.0\n",
      "Context Recall: 1.0\n",
      "====================================================================================================\n",
      "Question: How many versions of Llama model are there?\n",
      "Answer: According to the provided context, the question is based on the following text:\n",
      "\n",
      "\"...plans on releasing multimodal models, models capable of conversing in multiple languages, and models with larger context windows. A version with 400B+ parameters is currently being trained.\"\n",
      "\n",
      "From this text, we can infer that there are at least three versions of Llama model mentioned: 8B, 70B, and 400B+. Additionally, other versions such as 7B, 13B, and 34B are also mentioned. Therefore, the total number of versions is at least six.\n",
      "\n",
      "However, if we consider all the versions mentioned in the provided text, there are a total of nine different versions:\n",
      "\n",
      "1. 8B\n",
      "2. 70B\n",
      "3. 400B+\n",
      "4. 7B\n",
      "5. 13B\n",
      "6. 34B\n",
      "7. 500B (foundation model)\n",
      "8. 20B (long-context data)\n",
      "\n",
      "So, the correct answer is: there are at least nine versions of Llama model.\n",
      "Ground Truth:  There are three versions of the Llama model.\n",
      "Context Relevancy: 0.0037593984962406013\n",
      "Context Precision: 0.4166666666458333\n",
      "Faithfulness: 1.0\n",
      "Answer Relevancy: 0.8121186314853447\n",
      "Context Recall: 1.0\n",
      "====================================================================================================\n",
      "Question: How is Llama 3 model different from GPT-3?\n",
      "Answer: According to the provided context, LLaMA 3 uses:\n",
      "\n",
      "* SwiGLU activation function instead of GeLU\n",
      "* Rotary positional embeddings instead of absolute positional embedding\n",
      "* Root-mean-squared layer-normalization instead of standard layer-normalization\n",
      "* Increases context length to 8k (compared to 4k in LLaMA 2 and 2k in LLaMA 1)\n",
      "\n",
      "These differences distinguish LLaMA 3 from GPT-3.\n",
      "Ground Truth:  There are minor architectural differences. Compared to GPT-3, LLaMA uses SwiGLU activation function instead of GeLU; uses rotary positional embeddings instead of absolute positional embedding; uses root-mean-squared layer-normalization instead of standard layer-normalization; increases context length to 8k in Llama 3 (compared to 4k in Llama 2 and 2k in Llama 1 and GPT-3)\n",
      "Context Relevancy: 0.023972602739726026\n",
      "Context Precision: 0.9999999999666667\n",
      "Faithfulness: 1.0\n",
      "Answer Relevancy: 0.6712139913349059\n",
      "Context Recall: 1.0\n",
      "====================================================================================================\n",
      "Question: Can you provide some information about the training datset of Llama-1 model?\n",
      "Answer: Based on the provided context, there is no specific information about the training dataset of Llama-1 model. The context only mentions that LLaMA's developers focused their effort on scaling the model's performance by increasing the volume of training data, rather than the number of parameters. It does not provide details about the size or composition of the training dataset for LLaMA-1 specifically.\n",
      "\n",
      "However, it is mentioned that LLaMA-3 was pre-trained on approximately 15 trillion tokens of text gathered from \"publicly available sources\" with instruct models fine-tuned on \"publicly available instruction datasets, as well as over 10M human-annotated examples\". Since LLaMA-1 and LLaMA-2 are not explicitly mentioned in this context, it is unclear whether their training datasets were similar or different.\n",
      "Ground Truth:  LLaMA 1 foundational models were trained on a data set with 1.4 trillion tokens, drawn from publicly available data sources, including: Webpages scraped by CommonCrawl; Open source repositories of source code from GitHub; Wikipedia in 20 different languages; Public domain books from Project Gutenberg; Books3 books dataset; The LaTeX source code for scientific papers uploaded to ArXiv; Questions and answers from Stack Exchange websites. On April 17, 2023, TogetherAI launched a project named RedPajama to reproduce and distribute an open source version of the LLaMA dataset. The dataset has approximately 1.2 trillion tokens and is publicly available for download\n",
      "Context Relevancy: 0.00684931506849315\n",
      "Context Precision: 0.999999999975\n",
      "Faithfulness: 0.2\n",
      "Answer Relevancy: 0.0\n",
      "Context Recall: 1.0\n",
      "====================================================================================================\n",
      "Question: What is the context length of Llama 3 model?\n",
      "Answer: According to the provided context, the answer can be found in the second document with metadata `{'page': 3}`:\n",
      "\n",
      "`...Context \\nlength\\nCorpus \\nsize...\\n6,300\\n[30]`\n",
      "\n",
      "The context length of Llama 3 is 6,300.\n",
      "Ground Truth:  The context length of Llama 3 model is 8192 tokens.\n",
      "Context Relevancy: 0.007272727272727273\n",
      "Context Precision: 0.0\n",
      "Faithfulness: 1.0\n",
      "Answer Relevancy: 0.9954413982146993\n",
      "Context Recall: 1.0\n",
      "====================================================================================================\n",
      "\\_/\\_/\\_/\\_/\\_/\\_/\\_/\\_/\\_/\\_/\\_/\\_/\\_/\\_/\\_/\\_/\\_/\\_/\\_/\\_/\\_/\\_/\\_/\\_/\\_/\\_/\\_/\\_/\\_/\\_/\\_/\\_/\\_/\\_/\\_/\\_/\\_/\\_/\\_/\\_/\\_/\\_/\\_/\\_/\\_/\\_/\\_/\\_/\\_/\\_/\n"
     ]
    },
    {
     "data": {
      "application/vnd.jupyter.widget-view+json": {
       "model_id": "00b4c41350e54abfbe0b1153de32b044",
       "version_major": 2,
       "version_minor": 0
      },
      "text/plain": [
       "Evaluating:   0%|          | 0/25 [00:00<?, ?it/s]"
      ]
     },
     "metadata": {},
     "output_type": "display_data"
    },
    {
     "name": "stderr",
     "output_type": "stream",
     "text": [
      "Failed to parse output. Returning None.\n"
     ]
    },
    {
     "name": "stdout",
     "output_type": "stream",
     "text": [
      "Embedding Model: BAAI/bge-large-en\n",
      "Question: What is the developer of Llama model?\n",
      "Answer: Based on the provided context, there is no information that directly answers the question \"What is the developer of Llama model?\" However, I can extract some relevant information.\n",
      "\n",
      "According to page 5, a software developer named Georgi Gerganov released llama.cpp as open-source on March 10, 2023. This implies that Georgi Gerganov might be involved in developing or re-implementing the Llama model.\n",
      "\n",
      "However, it's important to note that there is no direct information provided about the original developer of the Llama language model.\n",
      "Ground Truth:  Meta AI is the developer of the Llama model.\n",
      "Context Relevancy: 0.011278195488721804\n",
      "Context Precision: 0.9999999999666667\n",
      "Faithfulness: 0.75\n",
      "Answer Relevancy: 0.0\n",
      "Context Recall: 0.6666666666666666\n",
      "====================================================================================================\n",
      "Question: How many versions of Llama model are there?\n",
      "Answer: Based on the provided context, I can see that:\n",
      "\n",
      "1. Initially, only LLaMA 1 was available as a foundation model.\n",
      "2. Later, Meta announced LLaMA 2, which has three model sizes: 7, 13, and 70 billion parameters.\n",
      "\n",
      "There is no mention of other versions beyond LLaMA 1 and LLaMA 2 in the provided context.\n",
      "Ground Truth:  There are three versions of the Llama model.\n",
      "Context Relevancy: 0.003676470588235294\n",
      "Context Precision: 0.49999999995\n",
      "Faithfulness: 1.0\n",
      "Answer Relevancy: 0.9167566639184695\n",
      "Context Recall: 1.0\n",
      "====================================================================================================\n",
      "Question: How is Llama 3 model different from GPT-3?\n",
      "Answer: Based on the provided context, specifically the document with page number 3, we can see that LLaMA 3 uses several differences compared to GPT-3:\n",
      "\n",
      "1. It uses SwiGLU activation function instead of GeLU.\n",
      "2. It uses rotary positional embeddings instead of absolute positional embedding.\n",
      "3. It uses root-mean-squared layer-normalization instead of standard layer-normalization.\n",
      "\n",
      "These architectural differences make LLaMA 3 distinct from GPT-3.\n",
      "Ground Truth:  There are minor architectural differences. Compared to GPT-3, LLaMA uses SwiGLU activation function instead of GeLU; uses rotary positional embeddings instead of absolute positional embedding; uses root-mean-squared layer-normalization instead of standard layer-normalization; increases context length to 8k in Llama 3 (compared to 4k in Llama 2 and 2k in Llama 1 and GPT-3)\n",
      "Context Relevancy: 0.01984126984126984\n",
      "Context Precision: 0.999999999975\n",
      "Faithfulness: nan\n",
      "Answer Relevancy: 0.974393495260279\n",
      "Context Recall: 0.0\n",
      "====================================================================================================\n",
      "Question: Can you provide some information about the training datset of Llama-1 model?\n",
      "Answer: Based on the provided context, it seems that there is no specific information about the training dataset of Llama-1 model. The text only mentions details about LLaMA 2 and LLaMA 3 models, but not LLaMA 1.\n",
      "\n",
      "However, it does mention that LLaMA 2 was trained on a data set with approximately 2 trillion tokens, which was curated to remove Web sites that often disclose personal data of people, and also upsamples sources considered trustworthy.\n",
      "Ground Truth:  LLaMA 1 foundational models were trained on a data set with 1.4 trillion tokens, drawn from publicly available data sources, including: Webpages scraped by CommonCrawl; Open source repositories of source code from GitHub; Wikipedia in 20 different languages; Public domain books from Project Gutenberg; Books3 books dataset; The LaTeX source code for scientific papers uploaded to ArXiv; Questions and answers from Stack Exchange websites. On April 17, 2023, TogetherAI launched a project named RedPajama to reproduce and distribute an open source version of the LLaMA dataset. The dataset has approximately 1.2 trillion tokens and is publicly available for download\n",
      "Context Relevancy: 0.009230769230769232\n",
      "Context Precision: 0.999999999975\n",
      "Faithfulness: 0.6\n",
      "Answer Relevancy: 0.0\n",
      "Context Recall: 1.0\n",
      "====================================================================================================\n",
      "Question: What is the context length of Llama 3 model?\n",
      "Answer: According to the text, the context length of Llama 3 model is 8k.\n",
      "Ground Truth:  The context length of Llama 3 model is 8192 tokens.\n",
      "Context Relevancy: 0.009433962264150943\n",
      "Context Precision: 0.8055555555287036\n",
      "Faithfulness: 1.0\n",
      "Answer Relevancy: 0.9999999999999524\n",
      "Context Recall: 1.0\n",
      "====================================================================================================\n",
      "\\_/\\_/\\_/\\_/\\_/\\_/\\_/\\_/\\_/\\_/\\_/\\_/\\_/\\_/\\_/\\_/\\_/\\_/\\_/\\_/\\_/\\_/\\_/\\_/\\_/\\_/\\_/\\_/\\_/\\_/\\_/\\_/\\_/\\_/\\_/\\_/\\_/\\_/\\_/\\_/\\_/\\_/\\_/\\_/\\_/\\_/\\_/\\_/\\_/\\_/\n"
     ]
    },
    {
     "data": {
      "application/vnd.jupyter.widget-view+json": {
       "model_id": "5d187822d4f64956a3681286ef53fd29",
       "version_major": 2,
       "version_minor": 0
      },
      "text/plain": [
       "Evaluating:   0%|          | 0/25 [00:00<?, ?it/s]"
      ]
     },
     "metadata": {},
     "output_type": "display_data"
    },
    {
     "name": "stdout",
     "output_type": "stream",
     "text": [
      "Embedding Model: BAAI/bge-small-en\n",
      "Question: What is the developer of Llama model?\n",
      "Answer: Based on the provided context, there is no direct mention of the developer of the Llama model. However, it is mentioned that Georgi Gerganov released an open-source implementation of Llama in C++ called \"llama.cpp\" on March 10, 2023. This might suggest that Gerganov had some involvement or contribution to the development of the Llama model, but it is not explicitly stated.\n",
      "Ground Truth:  Meta AI is the developer of the Llama model.\n",
      "Context Relevancy: 0.011673151750972763\n",
      "Context Precision: 0.999999999975\n",
      "Faithfulness: 0.8333333333333334\n",
      "Answer Relevancy: 0.9882436320170883\n",
      "Context Recall: 0.5\n",
      "====================================================================================================\n",
      "Question: How many versions of Llama model are there?\n",
      "Answer: Based on the given context, I can see that:\n",
      "\n",
      "* There is a mention of \"Llama 2\" in the document content.\n",
      "* There is also a mention of \"LLaMA-1 models\" which suggests that there is at least one previous version of the LLaMA model.\n",
      "\n",
      "However, it's not explicitly stated how many versions there are.\n",
      "Ground Truth:  There are three versions of the Llama model.\n",
      "Context Relevancy: 0.0037174721189591076\n",
      "Context Precision: 0.99999999995\n",
      "Faithfulness: 0.8333333333333334\n",
      "Answer Relevancy: 0.9970516901507306\n",
      "Context Recall: 1.0\n",
      "====================================================================================================\n",
      "Question: How is Llama 3 model different from GPT-3?\n",
      "Answer: According to the provided context, LLaMA 3 model differs from GPT-3 in the following ways:\n",
      "\n",
      "* Uses SwiGLU activation function instead of GeLU.\n",
      "* Uses rotary positional embeddings instead of absolute positional embedding.\n",
      "* Uses root-mean-squared layer-normalization instead of standard layer-normalization.\n",
      "* Increases context length to 8k (compared to 4k in LLaMA 2 and 2k in LLaMA 1).\n",
      "\n",
      "These differences are mentioned on page 3 of the document.\n",
      "Ground Truth:  There are minor architectural differences. Compared to GPT-3, LLaMA uses SwiGLU activation function instead of GeLU; uses rotary positional embeddings instead of absolute positional embedding; uses root-mean-squared layer-normalization instead of standard layer-normalization; increases context length to 8k in Llama 3 (compared to 4k in Llama 2 and 2k in Llama 1 and GPT-3)\n",
      "Context Relevancy: 0.011235955056179775\n",
      "Context Precision: 0.9166666666361111\n",
      "Faithfulness: 0.5\n",
      "Answer Relevancy: 0.9878473756310687\n",
      "Context Recall: 0.8333333333333334\n",
      "====================================================================================================\n",
      "Question: Can you provide some information about the training datset of Llama-1 model?\n",
      "Answer: Based on the provided context, I can answer your question. Unfortunately, there is no specific information about the training dataset of Llama-1 model in the given text. The relevant text only mentions that LLaMA's developers focused their effort on scaling the model's performance by increasing the volume of training data, rather than the number of parameters, reasoning that the dominating cost for LLMs is from doing inference on the trained model rather than the computational cost of the training process.\n",
      "\n",
      "However, if you're looking for information about the training datasets used for other LLaMA models, such as LLaMA-2 or LLaMA-3, the text does provide some details. For example, it mentions that LLaMA-2 uses a 21,000-word corpus and that LLaMA-3's training dataset size is not publicly disclosed due to being unreleased.\n",
      "Ground Truth:  LLaMA 1 foundational models were trained on a data set with 1.4 trillion tokens, drawn from publicly available data sources, including: Webpages scraped by CommonCrawl; Open source repositories of source code from GitHub; Wikipedia in 20 different languages; Public domain books from Project Gutenberg; Books3 books dataset; The LaTeX source code for scientific papers uploaded to ArXiv; Questions and answers from Stack Exchange websites. On April 17, 2023, TogetherAI launched a project named RedPajama to reproduce and distribute an open source version of the LLaMA dataset. The dataset has approximately 1.2 trillion tokens and is publicly available for download\n",
      "Context Relevancy: 0.009933774834437087\n",
      "Context Precision: 0.999999999975\n",
      "Faithfulness: 0.625\n",
      "Answer Relevancy: 0.9066550990620251\n",
      "Context Recall: 0.42857142857142855\n",
      "====================================================================================================\n",
      "Question: What is the context length of Llama 3 model?\n",
      "Answer: Based on the provided context, we can find the answer by searching for the phrase \"context length\" in the page content. On page 4, we find:\n",
      "\n",
      "\"...Llama 2 models. Unlike GPT-4 which increased context length during fine-tuning, Llama 2 and Code Llama - Chat have the same context length of 4K tokens.\"\n",
      "\n",
      "However, since this information is about Llama 2, not Llama 3, it's unclear whether the context length remains the same for Llama 3.\n",
      "\n",
      "Unfortunately, there is no specific information provided about the context length of Llama 3 model. The answer to this question cannot be determined based on the given context.\n",
      "Ground Truth:  The context length of Llama 3 model is 8192 tokens.\n",
      "Context Relevancy: 0.007352941176470588\n",
      "Context Precision: 0.249999999975\n",
      "Faithfulness: 0.2\n",
      "Answer Relevancy: 0.0\n",
      "Context Recall: 1.0\n",
      "====================================================================================================\n",
      "\\_/\\_/\\_/\\_/\\_/\\_/\\_/\\_/\\_/\\_/\\_/\\_/\\_/\\_/\\_/\\_/\\_/\\_/\\_/\\_/\\_/\\_/\\_/\\_/\\_/\\_/\\_/\\_/\\_/\\_/\\_/\\_/\\_/\\_/\\_/\\_/\\_/\\_/\\_/\\_/\\_/\\_/\\_/\\_/\\_/\\_/\\_/\\_/\\_/\\_/\n"
     ]
    },
    {
     "data": {
      "application/vnd.jupyter.widget-view+json": {
       "model_id": "111854c35ac04b7dbca7d8bb6cf2ea03",
       "version_major": 2,
       "version_minor": 0
      },
      "text/plain": [
       "Loading checkpoint shards:   0%|          | 0/3 [00:00<?, ?it/s]"
      ]
     },
     "metadata": {},
     "output_type": "display_data"
    },
    {
     "data": {
      "application/vnd.jupyter.widget-view+json": {
       "model_id": "6ac3ec775b364daabfa19612d5edca81",
       "version_major": 2,
       "version_minor": 0
      },
      "text/plain": [
       "Evaluating:   0%|          | 0/25 [00:00<?, ?it/s]"
      ]
     },
     "metadata": {},
     "output_type": "display_data"
    },
    {
     "name": "stderr",
     "output_type": "stream",
     "text": [
      "Failed to parse output. Returning None.\n"
     ]
    },
    {
     "name": "stdout",
     "output_type": "stream",
     "text": [
      "Embedding Model: Salesforce/SFR-Embedding-2_R\n",
      "Question: What is the developer of Llama model?\n",
      "Answer: According to the provided context, the developer(s) of the Llama model are Meta AI.\n",
      "Ground Truth:  Meta AI is the developer of the Llama model.\n",
      "Context Relevancy: 0.018633540372670808\n",
      "Context Precision: 0.99999999995\n",
      "Faithfulness: 1.0\n",
      "Answer Relevancy: 0.9480041718419262\n",
      "Context Recall: 1.0\n",
      "====================================================================================================\n",
      "Question: How many versions of Llama model are there?\n",
      "Answer: Based on the provided context, I can see that there are at least 3 versions of the LLaMA model mentioned:\n",
      "\n",
      "1. LLaMA (original)\n",
      "2. LLaMA-2\n",
      "3. LLaMA-3\n",
      "\n",
      "Additionally, it's mentioned that there were unauthorized copies shared via BitTorrent, and later on, subsequent versions of LLaMA were made accessible outside academia and released under licenses permitting some commercial use.\n",
      "\n",
      "So, to answer your question, there are at least 3 named versions of the LLaMA model: LLaMA, LLaMA-2, and LLaMA-3.\n",
      "Ground Truth:  There are three versions of the Llama model.\n",
      "Context Relevancy: 0.013636363636363636\n",
      "Context Precision: 0.99999999995\n",
      "Faithfulness: 0.3333333333333333\n",
      "Answer Relevancy: 0.8903150332447121\n",
      "Context Recall: 1.0\n",
      "====================================================================================================\n",
      "Question: How is Llama 3 model different from GPT-3?\n",
      "Answer: According to the provided context, LLaMA 3 uses rotary positional embeddings instead of absolute positional embeddings, and root-mean-squared layer-normalization instead of standard layer-normalization. Additionally, it increases the context length to 8k compared to 4k in LLaMA 2 and 2k in LLaMA 1 and GPT-3.\n",
      "Ground Truth:  There are minor architectural differences. Compared to GPT-3, LLaMA uses SwiGLU activation function instead of GeLU; uses rotary positional embeddings instead of absolute positional embedding; uses root-mean-squared layer-normalization instead of standard layer-normalization; increases context length to 8k in Llama 3 (compared to 4k in Llama 2 and 2k in Llama 1 and GPT-3)\n",
      "Context Relevancy: 0.00816326530612245\n",
      "Context Precision: 0.999999999975\n",
      "Faithfulness: 1.0\n",
      "Answer Relevancy: 0.9010357159755958\n",
      "Context Recall: 0.8333333333333334\n",
      "====================================================================================================\n",
      "Question: Can you provide some information about the training datset of Llama-1 model?\n",
      "Answer: According to the provided context, the training dataset for LLaMA-1 model is described on page 4. It states that LLaMA's developers focused their effort on scaling the model's performance by increasing the volume of training data, rather than the number of parameters.\n",
      "\n",
      "It also mentions that the data set used for training LLaMA-1 has approximately 1.4 trillion tokens, drawn from publicly available sources, including:\n",
      "\n",
      "* Webpages scraped by CommonCrawl\n",
      "* Open source repositories of source code from GitHub\n",
      "* Wikipedia in 20 different languages\n",
      "* Public domain books from Project Gutenberg\n",
      "* Books3 dataset\n",
      "* The LaTeX source code for scientific papers uploaded to ArXiv\n",
      "* Questions and answers from Stack Exchange websites\n",
      "Ground Truth:  LLaMA 1 foundational models were trained on a data set with 1.4 trillion tokens, drawn from publicly available data sources, including: Webpages scraped by CommonCrawl; Open source repositories of source code from GitHub; Wikipedia in 20 different languages; Public domain books from Project Gutenberg; Books3 books dataset; The LaTeX source code for scientific papers uploaded to ArXiv; Questions and answers from Stack Exchange websites. On April 17, 2023, TogetherAI launched a project named RedPajama to reproduce and distribute an open source version of the LLaMA dataset. The dataset has approximately 1.2 trillion tokens and is publicly available for download\n",
      "Context Relevancy: 0.00967741935483871\n",
      "Context Precision: 0.999999999975\n",
      "Faithfulness: 0.5\n",
      "Answer Relevancy: 0.9082873596473494\n",
      "Context Recall: nan\n",
      "====================================================================================================\n",
      "Question: What is the context length of Llama 3 model?\n",
      "Answer: Based on the provided context, the answer to the question can be found in the page content of the Document with metadata {'page': 3}:\n",
      "\n",
      "`Llama\\n3\\n... \\nContext \\nlength\\nCorpus \\nsize\\nCommercial \\nviability?\\nLLaMA\\nFebruary \\n24,\\n2023\\n●\\n6.7B \\n●\\n13B \\n●\\n32.5B \\n●\\n65.2B\\n6,300\\n[30]\\n2048\\n1–1.4T\\nNo\\nLlama\\n2\\nJuly\\n18, \\n2023\\n●\\n6.7B \\n●\\n13B \\n●\\n69B\\n21,000\\n[31]\\n4096\\n2T\\nYes\\nCode\\nLlama\\nAugust\\n24, \\n2023\\n●\\n6.7B \\n●\\n13B \\n●\\n33.7B \\n●\\n69B\\nLlama\\n3\\nApril\\n18, \\n2024\\n●\\n8B \\n●\\n70.6B \\n●\\n400B+ \\n(unreleas \\ned)\\n100,000\\n[32]\\n[33]\\n8192\\n15T\\nArchitecture\\nand\\ntraining\\nArchitecture\\nLLaMA\\nuses\\nthe\\ntransformer\\narchitecture,\\nthe`\n",
      "\n",
      "The context length of Llama 3 model is mentioned as `8k` (8 thousand) in the text.\n",
      "Ground Truth:  The context length of Llama 3 model is 8192 tokens.\n",
      "Context Relevancy: 0.02336448598130841\n",
      "Context Precision: 0.99999999995\n",
      "Faithfulness: 1.0\n",
      "Answer Relevancy: 0.9999999999994146\n",
      "Context Recall: 1.0\n",
      "====================================================================================================\n",
      "\\_/\\_/\\_/\\_/\\_/\\_/\\_/\\_/\\_/\\_/\\_/\\_/\\_/\\_/\\_/\\_/\\_/\\_/\\_/\\_/\\_/\\_/\\_/\\_/\\_/\\_/\\_/\\_/\\_/\\_/\\_/\\_/\\_/\\_/\\_/\\_/\\_/\\_/\\_/\\_/\\_/\\_/\\_/\\_/\\_/\\_/\\_/\\_/\\_/\\_/\n"
     ]
    },
    {
     "data": {
      "application/vnd.jupyter.widget-view+json": {
       "model_id": "603bcb0fccf34b838b5b65005b952605",
       "version_major": 2,
       "version_minor": 0
      },
      "text/plain": [
       "Loading checkpoint shards:   0%|          | 0/7 [00:00<?, ?it/s]"
      ]
     },
     "metadata": {},
     "output_type": "display_data"
    },
    {
     "name": "stderr",
     "output_type": "stream",
     "text": [
      "Special tokens have been added in the vocabulary, make sure the associated word embeddings are fine-tuned or trained.\n"
     ]
    },
    {
     "data": {
      "application/vnd.jupyter.widget-view+json": {
       "model_id": "b52bb21a8fd04d55890255317d010af8",
       "version_major": 2,
       "version_minor": 0
      },
      "text/plain": [
       "Evaluating:   0%|          | 0/25 [00:00<?, ?it/s]"
      ]
     },
     "metadata": {},
     "output_type": "display_data"
    },
    {
     "name": "stdout",
     "output_type": "stream",
     "text": [
      "Embedding Model: Alibaba-NLP/gte-Qwen2-7B-instruct\n",
      "Question: What is the developer of Llama model?\n",
      "Answer: Based on the provided context, the developer of the Llama model is Meta.\n",
      "Ground Truth:  Meta AI is the developer of the Llama model.\n",
      "Context Relevancy: 0.005649717514124294\n",
      "Context Precision: 0.499999999975\n",
      "Faithfulness: 1.0\n",
      "Answer Relevancy: 0.8480938578182253\n",
      "Context Recall: 1.0\n",
      "====================================================================================================\n",
      "Question: How many versions of Llama model are there?\n",
      "Answer: Based on the provided context, we can see that there are at least 3 versions of the LLaMA model:\n",
      "\n",
      "* LLaMA 1\n",
      "* LLaMA 2\n",
      "* LLaMA 3\n",
      "\n",
      "Additionally, it is mentioned that future versions (LLaMA 5, 6, and 7) are planned.\n",
      "Ground Truth:  There are three versions of the Llama model.\n",
      "Context Relevancy: 0.01020408163265306\n",
      "Context Precision: 0.8055555555287036\n",
      "Faithfulness: 1.0\n",
      "Answer Relevancy: 0.5249875097848541\n",
      "Context Recall: 1.0\n",
      "====================================================================================================\n",
      "Question: How is Llama 3 model different from GPT-3?\n",
      "Answer: According to the provided context, LLaMA 3 uses the following components that differ from GPT-3:\n",
      "\n",
      "1. **SwiGLU activation function**: Instead of GeLU used in GPT-3.\n",
      "2. **Rotary positional embeddings**: Instead of absolute positional embedding used in GPT-3.\n",
      "3. **Root-mean-squared layer normalization**: Instead of standard layer normalization used in GPT-3.\n",
      "\n",
      "Additionally, LLaMA 3 has a longer context length of 8k, compared to 4k in LLaMA 2 and 2k in LLaMA 1.\n",
      "Ground Truth:  There are minor architectural differences. Compared to GPT-3, LLaMA uses SwiGLU activation function instead of GeLU; uses rotary positional embeddings instead of absolute positional embedding; uses root-mean-squared layer-normalization instead of standard layer-normalization; increases context length to 8k in Llama 3 (compared to 4k in Llama 2 and 2k in Llama 1 and GPT-3)\n",
      "Context Relevancy: 0.018072289156626505\n",
      "Context Precision: 0.6388888888675925\n",
      "Faithfulness: 1.0\n",
      "Answer Relevancy: 0.9076189370181525\n",
      "Context Recall: 0.8\n",
      "====================================================================================================\n",
      "Question: Can you provide some information about the training datset of Llama-1 model?\n",
      "Answer: I can't answer that question. The provided context does not mention Llama-1 model or its training dataset. It only provides information about the Llama language model and its pages 0, 3, 5, and 6.\n",
      "Ground Truth:  LLaMA 1 foundational models were trained on a data set with 1.4 trillion tokens, drawn from publicly available data sources, including: Webpages scraped by CommonCrawl; Open source repositories of source code from GitHub; Wikipedia in 20 different languages; Public domain books from Project Gutenberg; Books3 books dataset; The LaTeX source code for scientific papers uploaded to ArXiv; Questions and answers from Stack Exchange websites. On April 17, 2023, TogetherAI launched a project named RedPajama to reproduce and distribute an open source version of the LLaMA dataset. The dataset has approximately 1.2 trillion tokens and is publicly available for download\n",
      "Context Relevancy: 0.00966183574879227\n",
      "Context Precision: 0.999999999975\n",
      "Faithfulness: 0.6\n",
      "Answer Relevancy: 0.0\n",
      "Context Recall: 0.5\n",
      "====================================================================================================\n",
      "Question: What is the context length of Llama 3 model?\n",
      "Answer: According to the given context, the context length of Llama 3 model is 8k. This can be found on page 3 of the document, where it says \"increases context length to 8k in Llama 3\".\n",
      "Ground Truth:  The context length of Llama 3 model is 8192 tokens.\n",
      "Context Relevancy: 0.0047169811320754715\n",
      "Context Precision: 0.49999999995\n",
      "Faithfulness: 1.0\n",
      "Answer Relevancy: 0.9999999999980403\n",
      "Context Recall: 1.0\n",
      "====================================================================================================\n",
      "\\_/\\_/\\_/\\_/\\_/\\_/\\_/\\_/\\_/\\_/\\_/\\_/\\_/\\_/\\_/\\_/\\_/\\_/\\_/\\_/\\_/\\_/\\_/\\_/\\_/\\_/\\_/\\_/\\_/\\_/\\_/\\_/\\_/\\_/\\_/\\_/\\_/\\_/\\_/\\_/\\_/\\_/\\_/\\_/\\_/\\_/\\_/\\_/\\_/\\_/\n"
     ]
    }
   ],
   "source": [
    "import sys\n",
    "sys.path.append('..')\n",
    "\n",
    "from tqdm.notebook import tqdm\n",
    "from langchain_huggingface import HuggingFaceEmbeddings\n",
    "\n",
    "# load the utility functions\n",
    "from utils import create_chunks_from_pdf, index_documents_and_retrieve, build_rag_chain, evaluate_rag, create_test_case\n",
    "\n",
    "# define all the parameters\n",
    "data_path = '../data'\n",
    "chunk_size = 500\n",
    "chunk_overlap = 50\n",
    "\n",
    "# empty lists to store the results\n",
    "context_relevancy_result, context_precision_result, context_recall_result, faithfulness_result, answer_relevancy_result = [], [], [], [], []\n",
    "\n",
    "# loop over all the embedding models\n",
    "for embedding_model_name in tqdm(embedding_models, desc=\"Embedding Models\"):\n",
    "\n",
    "    # load the embeddings model\n",
    "    embeddings = HuggingFaceEmbeddings(model_name=embedding_model_name)\n",
    "\n",
    "    docs = create_chunks_from_pdf(data_path, chunk_size, chunk_overlap) # ceate langchain chunked documents\n",
    "    retriever = index_documents_and_retrieve(docs, embeddings) # index the documents and get the retriever object\n",
    "    rag_chain = build_rag_chain(llm, retriever) # build the RAG model\n",
    "    dataset = create_test_case(questions, ground_truth, rag_chain, retriever) # create the test case for each question using each embedding model\n",
    "    evaluation_result = evaluate_rag(dataset, llm, embeddings) # evaluate the RAG model on the test case\n",
    "\n",
    "    # store the results\n",
    "    context_relevancy_result.append(evaluation_result['context_relevancy'])\n",
    "    context_precision_result.append(evaluation_result['context_precision'])\n",
    "    context_recall_result.append(evaluation_result['context_recall'])\n",
    "    faithfulness_result.append(evaluation_result['faithfulness'])\n",
    "    answer_relevancy_result.append(evaluation_result['answer_relevancy'])\n",
    "\n",
    "    # print the results to see how the model is performing\n",
    "    print(f\"Embedding Model: {embedding_model_name}\")\n",
    "    for rows in evaluation_result.to_pandas().iterrows():\n",
    "        print(f\"Question: {rows[1]['question']}\")\n",
    "        print(f\"Answer: {rows[1]['answer']}\")\n",
    "        print(\"Ground Truth: \", rows[1]['ground_truth'])\n",
    "        print(f\"Context Relevancy: {rows[1]['context_relevancy']}\")\n",
    "        print(f\"Context Precision: {rows[1]['context_precision']}\")\n",
    "        print(f\"Faithfulness: {rows[1]['faithfulness']}\")\n",
    "        print(f\"Answer Relevancy: {rows[1]['answer_relevancy']}\")\n",
    "        print(f\"Context Recall: {rows[1]['context_recall']}\")\n",
    "        print(\"=\"*100)\n",
    "    print(\"\\\\_/\"*50)"
   ]
  },
  {
   "cell_type": "markdown",
   "metadata": {},
   "source": [
    "Great! Now we have successfully evaluated the RAG App using the RAGAS library. Now let's plot the results to see how the RAG App performs on the evaluation set using different embeddings models."
   ]
  },
  {
   "cell_type": "code",
   "execution_count": 7,
   "metadata": {},
   "outputs": [
    {
     "name": "stderr",
     "output_type": "stream",
     "text": [
      "/tmp/ipykernel_2394656/2711038859.py:7: UserWarning: set_ticklabels() should only be used with a fixed number of ticks, i.e. after set_ticks() or using a FixedLocator.\n",
      "  ax[0].set_xticklabels(embedding_models, rotation=90)\n",
      "/tmp/ipykernel_2394656/2711038859.py:11: UserWarning: set_ticklabels() should only be used with a fixed number of ticks, i.e. after set_ticks() or using a FixedLocator.\n",
      "  ax[1].set_xticklabels(embedding_models, rotation=90)\n",
      "/tmp/ipykernel_2394656/2711038859.py:15: UserWarning: set_ticklabels() should only be used with a fixed number of ticks, i.e. after set_ticks() or using a FixedLocator.\n",
      "  ax[2].set_xticklabels(embedding_models, rotation=90)\n",
      "/tmp/ipykernel_2394656/2711038859.py:19: UserWarning: set_ticklabels() should only be used with a fixed number of ticks, i.e. after set_ticks() or using a FixedLocator.\n",
      "  ax[3].set_xticklabels(embedding_models, rotation=90)\n",
      "/tmp/ipykernel_2394656/2711038859.py:23: UserWarning: set_ticklabels() should only be used with a fixed number of ticks, i.e. after set_ticks() or using a FixedLocator.\n",
      "  ax[4].set_xticklabels(embedding_models, rotation=90)\n"
     ]
    },
    {
     "data": {
      "image/png": "[encoded data removed]",
      "text/plain": [
       "<Figure size 2000x500 with 5 Axes>"
      ]
     },
     "metadata": {},
     "output_type": "display_data"
    }
   ],
   "source": [
    "from matplotlib import pyplot as plt\n",
    "\n",
    "_, ax = plt.subplots(1, 5, figsize=(20, 5))\n",
    "\n",
    "ax[0].bar(embedding_models, context_relevancy_result)\n",
    "ax[0].set_title(\"Context Relevancy\")\n",
    "ax[0].set_xticklabels(embedding_models, rotation=90)\n",
    "\n",
    "ax[1].bar(embedding_models, context_precision_result)\n",
    "ax[1].set_title(\"Context Precision\")\n",
    "ax[1].set_xticklabels(embedding_models, rotation=90)\n",
    "\n",
    "ax[2].bar(embedding_models, context_recall_result)\n",
    "ax[2].set_title(\"Context Recall\")\n",
    "ax[2].set_xticklabels(embedding_models, rotation=90)\n",
    "\n",
    "ax[3].bar(embedding_models, faithfulness_result)\n",
    "ax[3].set_title(\"Faithfulness\")\n",
    "ax[3].set_xticklabels(embedding_models, rotation=90)\n",
    "\n",
    "ax[4].bar(embedding_models, answer_relevancy_result)\n",
    "ax[4].set_title(\"Answer Relevancy\")\n",
    "ax[4].set_xticklabels(embedding_models, rotation=90)\n",
    "\n",
    "plt.show()"
   ]
  },
  {
   "cell_type": "markdown",
   "metadata": {},
   "source": [
    "We can see that the embedding model from salesforce has given the best results. So it's essential to choose the right embeddings model for the RAG App to perform well."
   ]
  },
  {
   "cell_type": "code",
   "execution_count": null,
   "metadata": {},
   "outputs": [],
   "source": []
  }
 ],
 "metadata": {
  "kernelspec": {
   "display_name": "ai-chatbot",
   "language": "python",
   "name": "python3"
  },
  "language_info": {
   "codemirror_mode": {
    "name": "ipython",
    "version": 3
   },
   "file_extension": ".py",
   "mimetype": "text/x-python",
   "name": "python",
   "nbconvert_exporter": "python",
   "pygments_lexer": "ipython3",
   "version": "3.12.2"
  }
 },
 "nbformat": 4,
 "nbformat_minor": 2
}
